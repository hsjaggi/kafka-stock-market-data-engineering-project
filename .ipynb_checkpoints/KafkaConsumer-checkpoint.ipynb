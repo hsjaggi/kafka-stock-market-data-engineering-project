{
 "cells": [
  {
   "cell_type": "code",
   "execution_count": null,
   "id": "7cf1ba8e-44e2-46bd-adef-3ce38a67cc60",
   "metadata": {},
   "outputs": [],
   "source": [
    "# pip install s3fs"
   ]
  },
  {
   "cell_type": "code",
   "execution_count": null,
   "id": "a9851e31-532c-4dc3-9185-7d3e5fbf8aa5",
   "metadata": {
    "tags": []
   },
   "outputs": [],
   "source": [
    "from kafka import KafkaConsumer\n",
    "from time import sleep\n",
    "from json import dumps, loads\n",
    "import json\n",
    "from s3fs import S3FileSystem\n",
    "import io"
   ]
  },
  {
   "cell_type": "code",
   "execution_count": null,
   "id": "3768eebd-28d5-49ba-a428-635b6f8e958f",
   "metadata": {
    "tags": []
   },
   "outputs": [],
   "source": [
    "consumer = KafkaConsumer(\n",
    "            'demo_test',\n",
    "            bootstrap_servers=[':9092'], #add your IP here\n",
    "            value_deserializer=lambda x: loads(x.decode('utf-8')))"
   ]
  },
  {
   "cell_type": "code",
   "execution_count": null,
   "id": "8960a3f8-8a2a-40eb-8486-ace14c0718c2",
   "metadata": {
    "tags": []
   },
   "outputs": [],
   "source": [
    "# for c in consumer:\n",
    "#     print(c.value)"
   ]
  },
  {
   "cell_type": "code",
   "execution_count": null,
   "id": "4d7fba41-1906-41b8-be3a-436dcb02aca8",
   "metadata": {},
   "outputs": [],
   "source": [
    "s3 = S3FileSystem()"
   ]
  },
  {
   "cell_type": "code",
   "execution_count": null,
   "id": "99905006-af36-447a-849d-e0a28d265697",
   "metadata": {},
   "outputs": [],
   "source": [
    "s3 = S3FileSystem(anon=False, key=\"\", secret=\"\") #Enter your key and secret access here"
   ]
  },
  {
   "cell_type": "code",
   "execution_count": null,
   "id": "d9574337-ef34-49dc-9ea3-2ab9581e3c35",
   "metadata": {},
   "outputs": [],
   "source": [
    "for count, i in enumerate(consumer):\n",
    "    s3_object_path = \"s3://stock-market-project-harsohrab/stock_market_{}.json\".format(count)\n",
    "    json_str = json.dumps(i.value, ensure_ascii=False, indent=2)\n",
    "    bytes_data = json_str.encode('utf-8')\n",
    "    with s3.open(s3_object_path, 'wb') as file:\n",
    "        # json.dump(i.value, file, ensure_ascii=False, indent=2)\n",
    "        file.write(bytes_data) "
   ]
  }
 ],
 "metadata": {
  "kernelspec": {
   "display_name": "Python 3 (ipykernel)",
   "language": "python",
   "name": "python3"
  },
  "language_info": {
   "codemirror_mode": {
    "name": "ipython",
    "version": 3
   },
   "file_extension": ".py",
   "mimetype": "text/x-python",
   "name": "python",
   "nbconvert_exporter": "python",
   "pygments_lexer": "ipython3",
   "version": "3.11.5"
  }
 },
 "nbformat": 4,
 "nbformat_minor": 5
}
